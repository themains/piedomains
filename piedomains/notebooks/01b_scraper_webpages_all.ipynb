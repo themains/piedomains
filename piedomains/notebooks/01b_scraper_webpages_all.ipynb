{
 "cells": [
  {
   "cell_type": "markdown",
   "id": "df7adfbc",
   "metadata": {},
   "source": [
    "### Scrape Shallalist Data"
   ]
  },
  {
   "cell_type": "raw",
   "id": "64437f79",
   "metadata": {},
   "source": [
    "!pip install -U mapply"
   ]
  },
  {
   "cell_type": "code",
   "execution_count": null,
   "id": "c96e3b03",
   "metadata": {},
   "outputs": [],
   "source": [
    "import os\n",
    "import logging\n",
    "import requests\n",
    "import pandas as pd\n",
    "from requests.packages.urllib3.exceptions import InsecureRequestWarning\n",
    "requests.packages.urllib3.disable_warnings(InsecureRequestWarning)\n",
    "import mapply\n",
    "\n",
    "mapply.init(\n",
    "    n_workers=4,\n",
    "    chunk_size=100,\n",
    "    max_chunks_per_worker=0,\n",
    "    progressbar=True\n",
    ")\n",
    "\n",
    "\n",
    "logging.basicConfig(filename='scrape_all.log',\n",
    "                    filemode='a',\n",
    "                    format='%(asctime)s,%(msecs)d %(name)s %(levelname)s %(message)s',\n",
    "                    datefmt='%H:%M:%S',\n",
    "                    level=logging.ERROR)"
   ]
  },
  {
   "cell_type": "code",
   "execution_count": null,
   "id": "d1a89e6a",
   "metadata": {
    "scrolled": false
   },
   "outputs": [],
   "source": [
    "shalla = pd.read_csv(\"./shallalist_all.csv\")\n",
    "shalla"
   ]
  },
  {
   "cell_type": "code",
   "execution_count": null,
   "id": "58197067",
   "metadata": {},
   "outputs": [],
   "source": [
    "# Drop duplicates\n",
    "shalla.drop_duplicates(subset = ['domain'], inplace = True)\n",
    "shalla.shape"
   ]
  },
  {
   "cell_type": "code",
   "execution_count": null,
   "id": "ed82da12",
   "metadata": {},
   "outputs": [],
   "source": [
    "shalla['status_code'] = 0\n",
    "shalla"
   ]
  },
  {
   "cell_type": "raw",
   "id": "c3fabb3e",
   "metadata": {},
   "source": [
    "# For test only\n",
    "shalla = shalla.sample(100)\n",
    "shalla"
   ]
  },
  {
   "cell_type": "code",
   "execution_count": null,
   "id": "e12815b1",
   "metadata": {},
   "outputs": [],
   "source": [
    "def download_file(url, fn):\n",
    "    headers = {\"User-Agent\":\"Mozilla/5.0 (Macintosh; Intel Mac OS X 10_15_4) AppleWebKit/537.36 (KHTML, like Gecko) Chrome/83.0.4103.97 Safari/537.36\"}\n",
    "    # NOTE the stream=True parameter below\n",
    "    status = -1\n",
    "    with requests.get(url, timeout=5, verify=False, headers=headers, stream=True) as r:\n",
    "        #print(r.headers)\n",
    "        r.raise_for_status()\n",
    "        with open(fn, 'wb') as f:\n",
    "            count = 0\n",
    "            for chunk in r.iter_content(chunk_size=8192): \n",
    "                # If you have chunk encoded response uncomment if\n",
    "                # and set chunk_size parameter to None.\n",
    "                #if chunk: \n",
    "                f.write(chunk)\n",
    "                count += 1\n",
    "                if count > 1024:\n",
    "                    # break if size > 8MB\n",
    "                    break\n",
    "        status = r.status_code\n",
    "    return status"
   ]
  },
  {
   "cell_type": "code",
   "execution_count": null,
   "id": "41d27e72",
   "metadata": {},
   "outputs": [],
   "source": [
    "def scrape_page(r):\n",
    "    try:\n",
    "        fn = 'scrape_all/' + r['domain'] + '.html'\n",
    "        if os.path.exists(fn):\n",
    "            return 0\n",
    "        else:\n",
    "            url = 'http://' + r['domain']\n",
    "            return download_file(url, fn)\n",
    "    except Exception as e:\n",
    "        #print('ERROR:', fn)\n",
    "        with open(fn, 'w') as f:\n",
    "            f.write('ERROR: %r' % e)\n",
    "        logging.error(e)\n",
    "        return -1"
   ]
  },
  {
   "cell_type": "code",
   "execution_count": null,
   "id": "8f26ec37",
   "metadata": {},
   "outputs": [],
   "source": [
    "shalla['status_code'] = shalla.mapply(scrape_page, axis=1)"
   ]
  },
  {
   "cell_type": "code",
   "execution_count": null,
   "id": "d0bcdd90",
   "metadata": {},
   "outputs": [],
   "source": [
    "shalla"
   ]
  },
  {
   "cell_type": "code",
   "execution_count": null,
   "id": "57878b37",
   "metadata": {},
   "outputs": [],
   "source": [
    "shalla.groupby(['status_code']).size()"
   ]
  },
  {
   "cell_type": "code",
   "execution_count": null,
   "id": "46b56489",
   "metadata": {},
   "outputs": [],
   "source": []
  }
 ],
 "metadata": {
  "kernelspec": {
   "display_name": "Python 3 (ipykernel)",
   "language": "python",
   "name": "python3"
  },
  "language_info": {
   "codemirror_mode": {
    "name": "ipython",
    "version": 3
   },
   "file_extension": ".py",
   "mimetype": "text/x-python",
   "name": "python",
   "nbconvert_exporter": "python",
   "pygments_lexer": "ipython3",
   "version": "3.8.12"
  }
 },
 "nbformat": 4,
 "nbformat_minor": 5
}
