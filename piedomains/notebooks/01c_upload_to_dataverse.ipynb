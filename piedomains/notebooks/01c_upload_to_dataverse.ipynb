{
 "cells": [
  {
   "cell_type": "code",
   "execution_count": 1,
   "metadata": {},
   "outputs": [],
   "source": [
    "# Dataverse API Token\n",
    "# https://dataverse.harvard.edu/dataverseuser.xhtml?selectTab=apiTokenTab\n",
    "host = 'https://dataverse.harvard.edu'\n",
    "token = '<API TOKEN>'\n",
    "doi = 'doi:10.7910/DVN/ZXTQ7V'"
   ]
  },
  {
   "cell_type": "code",
   "execution_count": 2,
   "metadata": {},
   "outputs": [],
   "source": [
    "from pyDataverse.api import Api"
   ]
  },
  {
   "cell_type": "code",
   "execution_count": 3,
   "metadata": {},
   "outputs": [],
   "source": [
    "from pyDataverse.models import Dataverse"
   ]
  },
  {
   "cell_type": "code",
   "execution_count": 4,
   "metadata": {},
   "outputs": [
    {
     "data": {
      "text/plain": [
       "'OK'"
      ]
     },
     "execution_count": 4,
     "metadata": {},
     "output_type": "execute_result"
    }
   ],
   "source": [
    "api = Api('https://dataverse.harvard.edu/', token)\n",
    "api.status"
   ]
  },
  {
   "cell_type": "code",
   "execution_count": 5,
   "metadata": {},
   "outputs": [
    {
     "data": {
      "text/plain": [
       "{'status': 'OK',\n",
       " 'data': {'id': 6120835,\n",
       "  'identifier': 'DVN/ZXTQ7V',\n",
       "  'persistentUrl': 'https://doi.org/10.7910/DVN/ZXTQ7V',\n",
       "  'protocol': 'doi',\n",
       "  'authority': '10.7910',\n",
       "  'publisher': 'Harvard Dataverse',\n",
       "  'publicationDate': '2022-03-27',\n",
       "  'storageIdentifier': 's3://10.7910/DVN/ZXTQ7V',\n",
       "  'metadataLanguage': 'undefined',\n",
       "  'latestVersion': {'id': 326885,\n",
       "   'datasetId': 6120835,\n",
       "   'datasetPersistentId': 'doi:10.7910/DVN/ZXTQ7V',\n",
       "   'storageIdentifier': 's3://10.7910/DVN/ZXTQ7V',\n",
       "   'versionNumber': 3,\n",
       "   'versionMinorNumber': 0,\n",
       "   'versionState': 'RELEASED',\n",
       "   'lastUpdateTime': '2022-05-04T16:27:56Z',\n",
       "   'releaseTime': '2022-05-04T16:27:56Z',\n",
       "   'createTime': '2022-05-04T16:27:47Z',\n",
       "   'license': {'name': 'CC0 1.0',\n",
       "    'uri': 'http://creativecommons.org/publicdomain/zero/1.0'},\n",
       "   'fileAccessRequest': False,\n",
       "   'metadataBlocks': {'citation': {'displayName': 'Citation Metadata',\n",
       "     'name': 'citation',\n",
       "     'fields': [{'typeName': 'title',\n",
       "       'multiple': False,\n",
       "       'typeClass': 'primitive',\n",
       "       'value': 'Shallalist Web Page Data'},\n",
       "      {'typeName': 'author',\n",
       "       'multiple': True,\n",
       "       'typeClass': 'compound',\n",
       "       'value': [{'authorName': {'typeName': 'authorName',\n",
       "          'multiple': False,\n",
       "          'typeClass': 'primitive',\n",
       "          'value': 'Sood, Gaurav'}}]},\n",
       "      {'typeName': 'datasetContact',\n",
       "       'multiple': True,\n",
       "       'typeClass': 'compound',\n",
       "       'value': [{'datasetContactName': {'typeName': 'datasetContactName',\n",
       "          'multiple': False,\n",
       "          'typeClass': 'primitive',\n",
       "          'value': 'Sood, Gaurav'},\n",
       "         'datasetContactEmail': {'typeName': 'datasetContactEmail',\n",
       "          'multiple': False,\n",
       "          'typeClass': 'primitive',\n",
       "          'value': 'gsood07@gmail.com'}}]},\n",
       "      {'typeName': 'dsDescription',\n",
       "       'multiple': True,\n",
       "       'typeClass': 'compound',\n",
       "       'value': [{'dsDescriptionValue': {'typeName': 'dsDescriptionValue',\n",
       "          'multiple': False,\n",
       "          'typeClass': 'primitive',\n",
       "          'value': 'Web pages of domains in shallalist'}}]},\n",
       "      {'typeName': 'subject',\n",
       "       'multiple': True,\n",
       "       'typeClass': 'controlledVocabulary',\n",
       "       'value': ['Social Sciences']},\n",
       "      {'typeName': 'depositor',\n",
       "       'multiple': False,\n",
       "       'typeClass': 'primitive',\n",
       "       'value': 'Sood, Gaurav'},\n",
       "      {'typeName': 'dateOfDeposit',\n",
       "       'multiple': False,\n",
       "       'typeClass': 'primitive',\n",
       "       'value': '2022-03-20'}]}},\n",
       "   'files': [{'description': '',\n",
       "     'label': 'shallalist2.tar.gz.partaa',\n",
       "     'restricted': False,\n",
       "     'version': 1,\n",
       "     'datasetVersionId': 326885,\n",
       "     'dataFile': {'id': 6160928,\n",
       "      'persistentId': '',\n",
       "      'pidURL': '',\n",
       "      'filename': 'shallalist2.tar.gz.partaa',\n",
       "      'contentType': 'application/gzip',\n",
       "      'filesize': 1730150400,\n",
       "      'description': '',\n",
       "      'storageIdentifier': 's3://dvn-cloud:17ffed6762b-69852f093738',\n",
       "      'rootDataFileId': -1,\n",
       "      'md5': 'ad40176f3f0bb23494a74916d6fdf7e1',\n",
       "      'checksum': {'type': 'MD5', 'value': 'ad40176f3f0bb23494a74916d6fdf7e1'},\n",
       "      'creationDate': '2022-04-06'}},\n",
       "    {'description': '',\n",
       "     'label': 'shallalist2.tar.gz.partab',\n",
       "     'restricted': False,\n",
       "     'version': 1,\n",
       "     'datasetVersionId': 326885,\n",
       "     'dataFile': {'id': 6160929,\n",
       "      'persistentId': '',\n",
       "      'pidURL': '',\n",
       "      'filename': 'shallalist2.tar.gz.partab',\n",
       "      'contentType': 'application/octet-stream',\n",
       "      'filesize': 1435651269,\n",
       "      'description': '',\n",
       "      'storageIdentifier': 's3://dvn-cloud:17ffed71e8e-45b387132316',\n",
       "      'rootDataFileId': -1,\n",
       "      'md5': 'f10538f76375e3e8026f7cb4ab5b9cf8',\n",
       "      'checksum': {'type': 'MD5', 'value': 'f10538f76375e3e8026f7cb4ab5b9cf8'},\n",
       "      'creationDate': '2022-04-06'}},\n",
       "    {'label': 'shallalist_cats.txt',\n",
       "     'restricted': False,\n",
       "     'version': 1,\n",
       "     'datasetVersionId': 326885,\n",
       "     'dataFile': {'id': 6280786,\n",
       "      'persistentId': '',\n",
       "      'pidURL': '',\n",
       "      'filename': 'shallalist_cats.txt',\n",
       "      'contentType': 'text/plain',\n",
       "      'filesize': 938,\n",
       "      'storageIdentifier': 's3://dvn-cloud:1808fe5fb89-3ed47b81d40a',\n",
       "      'rootDataFileId': -1,\n",
       "      'md5': '24691d2d402e82a7abc27cde7304c2ee',\n",
       "      'checksum': {'type': 'MD5', 'value': '24691d2d402e82a7abc27cde7304c2ee'},\n",
       "      'creationDate': '2022-05-04'}},\n",
       "    {'label': 'shallalist_dict.txt',\n",
       "     'restricted': False,\n",
       "     'version': 1,\n",
       "     'datasetVersionId': 326885,\n",
       "     'dataFile': {'id': 6280787,\n",
       "      'persistentId': '',\n",
       "      'pidURL': '',\n",
       "      'filename': 'shallalist_dict.txt',\n",
       "      'contentType': 'text/plain',\n",
       "      'filesize': 10088,\n",
       "      'storageIdentifier': 's3://dvn-cloud:1808fe5fc26-27607c6c7339',\n",
       "      'rootDataFileId': -1,\n",
       "      'md5': '1bc9dc9f647a91724ade6a98e9645f40',\n",
       "      'checksum': {'type': 'MD5', 'value': '1bc9dc9f647a91724ade6a98e9645f40'},\n",
       "      'creationDate': '2022-05-04'}},\n",
       "    {'description': '',\n",
       "     'label': 'shallalist.tar.gz.partaa',\n",
       "     'restricted': False,\n",
       "     'version': 1,\n",
       "     'datasetVersionId': 326885,\n",
       "     'dataFile': {'id': 6153920,\n",
       "      'persistentId': '',\n",
       "      'pidURL': '',\n",
       "      'filename': 'shallalist.tar.gz.partaa',\n",
       "      'contentType': 'application/gzip',\n",
       "      'filesize': 1730150400,\n",
       "      'description': '',\n",
       "      'storageIdentifier': 's3://dvn-cloud:17fc53c6b33-4b855fb94e09',\n",
       "      'rootDataFileId': -1,\n",
       "      'md5': '413c5ab0ea80ac17b7c1bdc14d93ec5b',\n",
       "      'checksum': {'type': 'MD5', 'value': '413c5ab0ea80ac17b7c1bdc14d93ec5b'},\n",
       "      'creationDate': '2022-03-26'}},\n",
       "    {'description': '',\n",
       "     'label': 'shallalist.tar.gz.partab',\n",
       "     'restricted': False,\n",
       "     'version': 1,\n",
       "     'datasetVersionId': 326885,\n",
       "     'dataFile': {'id': 6153922,\n",
       "      'persistentId': '',\n",
       "      'pidURL': '',\n",
       "      'filename': 'shallalist.tar.gz.partab',\n",
       "      'contentType': 'application/octet-stream',\n",
       "      'filesize': 1730150400,\n",
       "      'description': '',\n",
       "      'storageIdentifier': 's3://dvn-cloud:17fc53de2cb-376ce0025f38',\n",
       "      'rootDataFileId': -1,\n",
       "      'md5': '6854a55c272d5c79a24b5a5d46950a3c',\n",
       "      'checksum': {'type': 'MD5', 'value': '6854a55c272d5c79a24b5a5d46950a3c'},\n",
       "      'creationDate': '2022-03-26'}},\n",
       "    {'description': '',\n",
       "     'label': 'shallalist.tar.gz.partac',\n",
       "     'restricted': False,\n",
       "     'version': 1,\n",
       "     'datasetVersionId': 326885,\n",
       "     'dataFile': {'id': 6153919,\n",
       "      'persistentId': '',\n",
       "      'pidURL': '',\n",
       "      'filename': 'shallalist.tar.gz.partac',\n",
       "      'contentType': 'application/octet-stream',\n",
       "      'filesize': 1730150400,\n",
       "      'description': '',\n",
       "      'storageIdentifier': 's3://dvn-cloud:17fc53bb4e5-c3d07a7a53a6',\n",
       "      'rootDataFileId': -1,\n",
       "      'md5': '95f2d8d04ab055dac9086a395ccc7193',\n",
       "      'checksum': {'type': 'MD5', 'value': '95f2d8d04ab055dac9086a395ccc7193'},\n",
       "      'creationDate': '2022-03-26'}},\n",
       "    {'description': '',\n",
       "     'label': 'shallalist.tar.gz.partad',\n",
       "     'restricted': False,\n",
       "     'version': 1,\n",
       "     'datasetVersionId': 326885,\n",
       "     'dataFile': {'id': 6153921,\n",
       "      'persistentId': '',\n",
       "      'pidURL': '',\n",
       "      'filename': 'shallalist.tar.gz.partad',\n",
       "      'contentType': 'application/octet-stream',\n",
       "      'filesize': 1645185305,\n",
       "      'description': '',\n",
       "      'storageIdentifier': 's3://dvn-cloud:17fc53d299e-a009dbed7f2b',\n",
       "      'rootDataFileId': -1,\n",
       "      'md5': '213b387fc498e9f42f1a47900a18f8a3',\n",
       "      'checksum': {'type': 'MD5', 'value': '213b387fc498e9f42f1a47900a18f8a3'},\n",
       "      'creationDate': '2022-03-26'}}]}}}"
      ]
     },
     "execution_count": 5,
     "metadata": {},
     "output_type": "execute_result"
    }
   ],
   "source": [
    "resp = api.get_dataset(doi)\n",
    "resp.json()"
   ]
  },
  {
   "cell_type": "code",
   "execution_count": 6,
   "metadata": {},
   "outputs": [
    {
     "name": "stdout",
     "output_type": "stream",
     "text": [
      "shallalist_all.tar.gz.partag\n"
     ]
    },
    {
     "name": "stderr",
     "output_type": "stream",
     "text": [
      "  % Total    % Received % Xferd  Average Speed   Time    Time     Time  Current\n",
      "                                 Dload  Upload   Total   Spent    Left  Speed\n",
      "100 2048M  100   547  100 2048M      6  23.5M  0:01:31  0:01:26  0:00:05   115\n",
      "  % Total    % Received % Xferd  Average Speed   Time    Time     Time  Current\n",
      "                                 Dload  Upload   Total   Spent    Left  Speed\n",
      "  0     0    0     0    0     0      0      0 --:--:-- --:--:-- --:--:--     0"
     ]
    },
    {
     "name": "stdout",
     "output_type": "stream",
     "text": [
      "{'status': 'OK', 'data': {'files': [{'description': '', 'label': 'shallalist_all.tar.gz.partag', 'restricted': False, 'version': 1, 'datasetVersionId': 328989, 'dataFile': {'id': 6348761, 'persistentId': '', 'pidURL': '', 'filename': 'shallalist_all.tar.gz.partag', 'contentType': 'application/octet-stream', 'filesize': 2147483648, 'description': '', 'storageIdentifier': 's3://dvn-cloud:1818ef31ca9-d9a7c5241193', 'rootDataFileId': -1, 'md5': 'bbe4d675661287e0a078106c4b591bd8', 'checksum': {'type': 'MD5', 'value': 'bbe4d675661287e0a078106c4b591bd8'}, 'creationDate': '2022-06-23'}}]}}\n",
      "shallalist_all.tar.gz.partae\n"
     ]
    },
    {
     "name": "stderr",
     "output_type": "stream",
     "text": [
      "100 2048M  100   547  100 2048M      7  28.7M  0:01:18  0:01:11  0:00:07   160\n",
      "  % Total    % Received % Xferd  Average Speed   Time    Time     Time  Current\n",
      "                                 Dload  Upload   Total   Spent    Left  Speed\n",
      "  0     0    0     0    0     0      0      0 --:--:-- --:--:-- --:--:--     0"
     ]
    },
    {
     "name": "stdout",
     "output_type": "stream",
     "text": [
      "{'status': 'OK', 'data': {'files': [{'description': '', 'label': 'shallalist_all.tar.gz.partae', 'restricted': False, 'version': 1, 'datasetVersionId': 328989, 'dataFile': {'id': 6348762, 'persistentId': '', 'pidURL': '', 'filename': 'shallalist_all.tar.gz.partae', 'contentType': 'application/octet-stream', 'filesize': 2147483648, 'description': '', 'storageIdentifier': 's3://dvn-cloud:1818ef45c54-719367f796ad', 'rootDataFileId': -1, 'md5': '8d7c06c101536412d40c55cb77e44d84', 'checksum': {'type': 'MD5', 'value': '8d7c06c101536412d40c55cb77e44d84'}, 'creationDate': '2022-06-23'}}]}}\n",
      "shallalist_all.tar.gz.partaa\n"
     ]
    },
    {
     "name": "stderr",
     "output_type": "stream",
     "text": [
      "100 2048M  100   539  100 2048M      9  37.9M  0:00:59  0:00:54  0:00:05   148\n",
      "  % Total    % Received % Xferd  Average Speed   Time    Time     Time  Current\n",
      "                                 Dload  Upload   Total   Spent    Left  Speed\n",
      "  0     0    0     0    0     0      0      0 --:--:-- --:--:-- --:--:--     0"
     ]
    },
    {
     "name": "stdout",
     "output_type": "stream",
     "text": [
      "{'status': 'OK', 'data': {'files': [{'description': '', 'label': 'shallalist_all.tar.gz.partaa', 'restricted': False, 'version': 1, 'datasetVersionId': 328989, 'dataFile': {'id': 6348763, 'persistentId': '', 'pidURL': '', 'filename': 'shallalist_all.tar.gz.partaa', 'contentType': 'application/gzip', 'filesize': 2147483648, 'description': '', 'storageIdentifier': 's3://dvn-cloud:1818ef5441a-1295b384ffc8', 'rootDataFileId': -1, 'md5': '1207e74d35111f3db606d30fa34c3fd0', 'checksum': {'type': 'MD5', 'value': '1207e74d35111f3db606d30fa34c3fd0'}, 'creationDate': '2022-06-23'}}]}}\n",
      "shallalist_all.tar.gz.partai\n"
     ]
    },
    {
     "name": "stderr",
     "output_type": "stream",
     "text": [
      "100  823M  100   546  100  823M     22  33.8M  0:00:24  0:00:24 --:--:--   148\n",
      "  % Total    % Received % Xferd  Average Speed   Time    Time     Time  Current\n",
      "                                 Dload  Upload   Total   Spent    Left  Speed\n",
      "  0     0    0     0    0     0      0      0 --:--:-- --:--:-- --:--:--     0"
     ]
    },
    {
     "name": "stdout",
     "output_type": "stream",
     "text": [
      "{'status': 'OK', 'data': {'files': [{'description': '', 'label': 'shallalist_all.tar.gz.partai', 'restricted': False, 'version': 1, 'datasetVersionId': 328989, 'dataFile': {'id': 6348764, 'persistentId': '', 'pidURL': '', 'filename': 'shallalist_all.tar.gz.partai', 'contentType': 'application/octet-stream', 'filesize': 863833227, 'description': '', 'storageIdentifier': 's3://dvn-cloud:1818ef5d0f5-de7ac047f105', 'rootDataFileId': -1, 'md5': 'eb87cdace629c6ae02a9bf03b20980ad', 'checksum': {'type': 'MD5', 'value': 'eb87cdace629c6ae02a9bf03b20980ad'}, 'creationDate': '2022-06-23'}}]}}\n",
      "shallalist_all.tar.gz.partah\n"
     ]
    },
    {
     "name": "stderr",
     "output_type": "stream",
     "text": [
      "100 2048M  100   547  100 2048M      9  34.8M  0:01:00  0:00:58  0:00:02   161\n",
      "  % Total    % Received % Xferd  Average Speed   Time    Time     Time  Current\n",
      "                                 Dload  Upload   Total   Spent    Left  Speed\n",
      "  0     0    0     0    0     0      0      0 --:--:-- --:--:-- --:--:--     0"
     ]
    },
    {
     "name": "stdout",
     "output_type": "stream",
     "text": [
      "{'status': 'OK', 'data': {'files': [{'description': '', 'label': 'shallalist_all.tar.gz.partah', 'restricted': False, 'version': 1, 'datasetVersionId': 328989, 'dataFile': {'id': 6348765, 'persistentId': '', 'pidURL': '', 'filename': 'shallalist_all.tar.gz.partah', 'contentType': 'application/octet-stream', 'filesize': 2147483648, 'description': '', 'storageIdentifier': 's3://dvn-cloud:1818ef6859a-c107e38ca978', 'rootDataFileId': -1, 'md5': '639fdf7d98e7de772b2966a7f5455456', 'checksum': {'type': 'MD5', 'value': '639fdf7d98e7de772b2966a7f5455456'}, 'creationDate': '2022-06-23'}}]}}\n",
      "shallalist_all.tar.gz.partad\n"
     ]
    },
    {
     "name": "stderr",
     "output_type": "stream",
     "text": [
      "100 2048M    0     0  100 2048M      0  24.4M  0:01:23  0:01:23 --:--:--     0"
     ]
    },
    {
     "name": "stdout",
     "output_type": "stream",
     "text": [
      "{'status': 'OK', 'data': {'files': [{'description': '', 'label': 'shallalist_all.tar.gz.partad', 'restricted': False, 'version': 1, 'datasetVersionId': 328989, 'dataFile': {'id': 6348766, 'persistentId': '', 'pidURL': '', 'filename': 'shallalist_all.tar.gz.partad', 'contentType': 'application/octet-stream', 'filesize': 2147483648, 'description': '', 'storageIdentifier': 's3://dvn-cloud:1818ef7b610-5017a7ed8269', 'rootDataFileId': -1, 'md5': '567d92902bdd5ddb8ea6b6b282d30da7', 'checksum': {'type': 'MD5', 'value': '567d92902bdd5ddb8ea6b6b282d30da7'}, 'creationDate': '2022-06-23'}}]}}\n",
      "shallalist_all.tar.gz.partab\n"
     ]
    },
    {
     "name": "stderr",
     "output_type": "stream",
     "text": [
      "100 2048M  100   547  100 2048M      6  24.3M  0:01:31  0:01:24  0:00:07   130\n",
      "  % Total    % Received % Xferd  Average Speed   Time    Time     Time  Current\n",
      "                                 Dload  Upload   Total   Spent    Left  Speed\n",
      "100 2048M  100   547  100 2048M     10  38.2M  0:00:54  0:00:53  0:00:01   119\n",
      "  % Total    % Received % Xferd  Average Speed   Time    Time     Time  Current\n",
      "                                 Dload  Upload   Total   Spent    Left  Speed\n",
      "  0     0    0     0    0     0      0      0 --:--:-- --:--:-- --:--:--     0"
     ]
    },
    {
     "name": "stdout",
     "output_type": "stream",
     "text": [
      "{'status': 'OK', 'data': {'files': [{'description': '', 'label': 'shallalist_all.tar.gz.partab', 'restricted': False, 'version': 1, 'datasetVersionId': 328989, 'dataFile': {'id': 6348767, 'persistentId': '', 'pidURL': '', 'filename': 'shallalist_all.tar.gz.partab', 'contentType': 'application/octet-stream', 'filesize': 2147483648, 'description': '', 'storageIdentifier': 's3://dvn-cloud:1818ef8a2f0-fbb10af80ebb', 'rootDataFileId': -1, 'md5': '5af471c1c69fb61b0fd35a9876d6b932', 'checksum': {'type': 'MD5', 'value': '5af471c1c69fb61b0fd35a9876d6b932'}, 'creationDate': '2022-06-23'}}]}}\n",
      "shallalist_all.tar.gz.partaf\n"
     ]
    },
    {
     "name": "stderr",
     "output_type": "stream",
     "text": [
      "100 2048M  100   547  100 2048M      6  22.7M  0:01:31  0:01:29  0:00:02   111\n",
      "  % Total    % Received % Xferd  Average Speed   Time    Time     Time  Current\n",
      "                                 Dload  Upload   Total   Spent    Left  Speed\n",
      "  0     0    0     0    0     0      0      0 --:--:-- --:--:-- --:--:--     0"
     ]
    },
    {
     "name": "stdout",
     "output_type": "stream",
     "text": [
      "{'status': 'OK', 'data': {'files': [{'description': '', 'label': 'shallalist_all.tar.gz.partaf', 'restricted': False, 'version': 1, 'datasetVersionId': 328989, 'dataFile': {'id': 6348768, 'persistentId': '', 'pidURL': '', 'filename': 'shallalist_all.tar.gz.partaf', 'contentType': 'application/octet-stream', 'filesize': 2147483648, 'description': '', 'storageIdentifier': 's3://dvn-cloud:1818ef9c02a-20014c50b13b', 'rootDataFileId': -1, 'md5': 'c87e42e09346f443ec0cf8ee83f84300', 'checksum': {'type': 'MD5', 'value': 'c87e42e09346f443ec0cf8ee83f84300'}, 'creationDate': '2022-06-23'}}]}}\n",
      "shallalist_all.tar.gz.partac\n"
     ]
    },
    {
     "name": "stderr",
     "output_type": "stream",
     "text": [
      "100 2048M    0     0  100 2048M      0  17.7M  0:01:55  0:01:55 --:--:--     0"
     ]
    },
    {
     "name": "stdout",
     "output_type": "stream",
     "text": [
      "{'status': 'OK', 'data': {'files': [{'description': '', 'label': 'shallalist_all.tar.gz.partac', 'restricted': False, 'version': 1, 'datasetVersionId': 328989, 'dataFile': {'id': 6348769, 'persistentId': '', 'pidURL': '', 'filename': 'shallalist_all.tar.gz.partac', 'contentType': 'application/octet-stream', 'filesize': 2147483648, 'description': '', 'storageIdentifier': 's3://dvn-cloud:1818efb3c24-e893a784a26e', 'rootDataFileId': -1, 'md5': '0873ebfe7332b993e73751234e656c7e', 'checksum': {'type': 'MD5', 'value': '0873ebfe7332b993e73751234e656c7e'}, 'creationDate': '2022-06-23'}}]}}\n"
     ]
    },
    {
     "name": "stderr",
     "output_type": "stream",
     "text": [
      "\r",
      "100 2048M  100   547  100 2048M      4  17.6M  0:02:16  0:01:55  0:00:21   122\n"
     ]
    }
   ],
   "source": [
    "from glob import glob\n",
    "\n",
    "for fn in glob('shallalist_all.tar.gz.part*'):\n",
    "    print(fn)\n",
    "    resp = api.upload_file(doi, fn)\n",
    "    print(resp)"
   ]
  },
  {
   "cell_type": "code",
   "execution_count": null,
   "metadata": {},
   "outputs": [],
   "source": []
  },
  {
   "cell_type": "code",
   "execution_count": null,
   "metadata": {},
   "outputs": [],
   "source": []
  }
 ],
 "metadata": {
  "kernelspec": {
   "display_name": "Python 3 (ipykernel)",
   "language": "python",
   "name": "python3"
  },
  "language_info": {
   "codemirror_mode": {
    "name": "ipython",
    "version": 3
   },
   "file_extension": ".py",
   "mimetype": "text/x-python",
   "name": "python",
   "nbconvert_exporter": "python",
   "pygments_lexer": "ipython3",
   "version": "3.8.12"
  }
 },
 "nbformat": 4,
 "nbformat_minor": 2
}
